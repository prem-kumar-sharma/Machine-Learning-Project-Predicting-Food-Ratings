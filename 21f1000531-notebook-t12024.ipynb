{
 "cells": [
  {
   "cell_type": "code",
   "execution_count": 1,
   "id": "88048a4c",
   "metadata": {
    "_cell_guid": "b1076dfc-b9ad-4769-8c92-a6c4dae69d19",
    "_uuid": "8f2839f25d086af736a60e9eeb907d3b93b6e0e5",
    "execution": {
     "iopub.execute_input": "2024-03-03T17:55:24.541623Z",
     "iopub.status.busy": "2024-03-03T17:55:24.540866Z",
     "iopub.status.idle": "2024-03-03T17:55:25.221517Z",
     "shell.execute_reply": "2024-03-03T17:55:25.220596Z"
    },
    "papermill": {
     "duration": 0.698701,
     "end_time": "2024-03-03T17:55:25.223540",
     "exception": false,
     "start_time": "2024-03-03T17:55:24.524839",
     "status": "completed"
    },
    "tags": []
   },
   "outputs": [
    {
     "name": "stdout",
     "output_type": "stream",
     "text": [
      "/kaggle/input/recipe-for-rating-predict-food-ratings-using-ml/sample.csv\n",
      "/kaggle/input/recipe-for-rating-predict-food-ratings-using-ml/train.csv\n",
      "/kaggle/input/recipe-for-rating-predict-food-ratings-using-ml/test.csv\n"
     ]
    }
   ],
   "source": [
    "# This Python 3 environment comes with many helpful analytics libraries installed\n",
    "# It is defined by the kaggle/python Docker image: https://github.com/kaggle/docker-python\n",
    "# For example, here's several helpful packages to load\n",
    "\n",
    "import numpy as np # linear algebra\n",
    "import pandas as pd # data processing, CSV file I/O (e.g. pd.read_csv)\n",
    "\n",
    "# Input data files are available in the read-only \"../input/\" directory\n",
    "# For example, running this (by clicking run or pressing Shift+Enter) will list all files under the input directory\n",
    "\n",
    "import os\n",
    "for dirname, _, filenames in os.walk('/kaggle/input'):\n",
    "    for filename in filenames:\n",
    "        print(os.path.join(dirname, filename))\n",
    "\n",
    "# You can write up to 20GB to the current directory (/kaggle/working/) that gets preserved as output when you create a version using \"Save & Run All\" \n",
    "# You can also write temporary files to /kaggle/temp/, but they won't be saved outside of the current session"
   ]
  },
  {
   "cell_type": "markdown",
   "id": "ae91eecd",
   "metadata": {
    "papermill": {
     "duration": 0.014039,
     "end_time": "2024-03-03T17:55:25.252194",
     "exception": false,
     "start_time": "2024-03-03T17:55:25.238155",
     "status": "completed"
    },
    "tags": []
   },
   "source": [
    "# Reading the Data"
   ]
  },
  {
   "cell_type": "code",
   "execution_count": 2,
   "id": "c7fbe541",
   "metadata": {
    "execution": {
     "iopub.execute_input": "2024-03-03T17:55:25.282213Z",
     "iopub.status.busy": "2024-03-03T17:55:25.281545Z",
     "iopub.status.idle": "2024-03-03T17:55:25.478406Z",
     "shell.execute_reply": "2024-03-03T17:55:25.477570Z"
    },
    "papermill": {
     "duration": 0.214402,
     "end_time": "2024-03-03T17:55:25.480730",
     "exception": false,
     "start_time": "2024-03-03T17:55:25.266328",
     "status": "completed"
    },
    "tags": []
   },
   "outputs": [],
   "source": [
    "train_df = pd.read_csv('/kaggle/input/recipe-for-rating-predict-food-ratings-using-ml/train.csv')\n",
    "test_df = pd.read_csv('/kaggle/input/recipe-for-rating-predict-food-ratings-using-ml/test.csv')"
   ]
  },
  {
   "cell_type": "code",
   "execution_count": 3,
   "id": "3c72ea18",
   "metadata": {
    "execution": {
     "iopub.execute_input": "2024-03-03T17:55:25.513032Z",
     "iopub.status.busy": "2024-03-03T17:55:25.512721Z",
     "iopub.status.idle": "2024-03-03T17:55:25.533994Z",
     "shell.execute_reply": "2024-03-03T17:55:25.533213Z"
    },
    "papermill": {
     "duration": 0.039657,
     "end_time": "2024-03-03T17:55:25.536020",
     "exception": false,
     "start_time": "2024-03-03T17:55:25.496363",
     "status": "completed"
    },
    "tags": []
   },
   "outputs": [
    {
     "data": {
      "text/html": [
       "<div>\n",
       "<style scoped>\n",
       "    .dataframe tbody tr th:only-of-type {\n",
       "        vertical-align: middle;\n",
       "    }\n",
       "\n",
       "    .dataframe tbody tr th {\n",
       "        vertical-align: top;\n",
       "    }\n",
       "\n",
       "    .dataframe thead th {\n",
       "        text-align: right;\n",
       "    }\n",
       "</style>\n",
       "<table border=\"1\" class=\"dataframe\">\n",
       "  <thead>\n",
       "    <tr style=\"text-align: right;\">\n",
       "      <th></th>\n",
       "      <th>ID</th>\n",
       "      <th>RecipeNumber</th>\n",
       "      <th>RecipeCode</th>\n",
       "      <th>RecipeName</th>\n",
       "      <th>CommentID</th>\n",
       "      <th>UserID</th>\n",
       "      <th>UserName</th>\n",
       "      <th>UserReputation</th>\n",
       "      <th>CreationTimestamp</th>\n",
       "      <th>ReplyCount</th>\n",
       "      <th>ThumbsUpCount</th>\n",
       "      <th>ThumbsDownCount</th>\n",
       "      <th>Rating</th>\n",
       "      <th>BestScore</th>\n",
       "      <th>Recipe_Review</th>\n",
       "    </tr>\n",
       "  </thead>\n",
       "  <tbody>\n",
       "    <tr>\n",
       "      <th>0</th>\n",
       "      <td>70</td>\n",
       "      <td>71</td>\n",
       "      <td>12259</td>\n",
       "      <td>Banana Bars with Cream Cheese Frosting</td>\n",
       "      <td>sp_aUSaElGf_12259_c_149978</td>\n",
       "      <td>u_1oKVaBmiEKwAFyiHrDLoWpbel0J</td>\n",
       "      <td>misscoffeepot</td>\n",
       "      <td>20</td>\n",
       "      <td>1622717078</td>\n",
       "      <td>0</td>\n",
       "      <td>0</td>\n",
       "      <td>0</td>\n",
       "      <td>5</td>\n",
       "      <td>100</td>\n",
       "      <td>great recipe! I have made them just as written...</td>\n",
       "    </tr>\n",
       "    <tr>\n",
       "      <th>1</th>\n",
       "      <td>72</td>\n",
       "      <td>88</td>\n",
       "      <td>8202</td>\n",
       "      <td>Simple Taco Soup</td>\n",
       "      <td>sp_aUSaElGf_8202_c_310332</td>\n",
       "      <td>u_1oKZeRIXYzGNhGW8OMR3O4lX1ih</td>\n",
       "      <td>MichelleMalone</td>\n",
       "      <td>1</td>\n",
       "      <td>1622717852</td>\n",
       "      <td>0</td>\n",
       "      <td>0</td>\n",
       "      <td>1</td>\n",
       "      <td>5</td>\n",
       "      <td>100</td>\n",
       "      <td>This is an easy and quick recipe that is great...</td>\n",
       "    </tr>\n",
       "    <tr>\n",
       "      <th>2</th>\n",
       "      <td>458</td>\n",
       "      <td>3</td>\n",
       "      <td>2832</td>\n",
       "      <td>Cheeseburger Soup</td>\n",
       "      <td>sp_aUSaElGf_2832_c_206522</td>\n",
       "      <td>u_1oKYHUtdaD48KJCDYq5wfpAUxWz</td>\n",
       "      <td>jeannem32</td>\n",
       "      <td>1</td>\n",
       "      <td>1622717357</td>\n",
       "      <td>0</td>\n",
       "      <td>0</td>\n",
       "      <td>0</td>\n",
       "      <td>3</td>\n",
       "      <td>100</td>\n",
       "      <td>I think I was looking for something extra spec...</td>\n",
       "    </tr>\n",
       "    <tr>\n",
       "      <th>3</th>\n",
       "      <td>7</td>\n",
       "      <td>50</td>\n",
       "      <td>100276</td>\n",
       "      <td>Grilled Huli Huli Chicken</td>\n",
       "      <td>sp_aUSaElGf_100276_c_434088</td>\n",
       "      <td>u_1oKZCQcKQZdQhDVBS7oISc216VA</td>\n",
       "      <td>ds422</td>\n",
       "      <td>1</td>\n",
       "      <td>1622648899</td>\n",
       "      <td>0</td>\n",
       "      <td>0</td>\n",
       "      <td>0</td>\n",
       "      <td>5</td>\n",
       "      <td>100</td>\n",
       "      <td>This is our favorite grilled chicken recipe.  ...</td>\n",
       "    </tr>\n",
       "    <tr>\n",
       "      <th>4</th>\n",
       "      <td>60</td>\n",
       "      <td>12</td>\n",
       "      <td>19731</td>\n",
       "      <td>Cauliflower Soup</td>\n",
       "      <td>sp_aUSaElGf_19731_c_387011</td>\n",
       "      <td>u_1oKd4sudZQPgu6YALiC7bW7mKMs</td>\n",
       "      <td>SusanHoward</td>\n",
       "      <td>1</td>\n",
       "      <td>1622718260</td>\n",
       "      <td>0</td>\n",
       "      <td>0</td>\n",
       "      <td>0</td>\n",
       "      <td>4</td>\n",
       "      <td>100</td>\n",
       "      <td>Great basic recipe. I added 2 teaspoons Tuscan...</td>\n",
       "    </tr>\n",
       "  </tbody>\n",
       "</table>\n",
       "</div>"
      ],
      "text/plain": [
       "    ID  RecipeNumber  RecipeCode                              RecipeName  \\\n",
       "0   70            71       12259  Banana Bars with Cream Cheese Frosting   \n",
       "1   72            88        8202                        Simple Taco Soup   \n",
       "2  458             3        2832                       Cheeseburger Soup   \n",
       "3    7            50      100276               Grilled Huli Huli Chicken   \n",
       "4   60            12       19731                        Cauliflower Soup   \n",
       "\n",
       "                     CommentID                         UserID        UserName  \\\n",
       "0   sp_aUSaElGf_12259_c_149978  u_1oKVaBmiEKwAFyiHrDLoWpbel0J   misscoffeepot   \n",
       "1    sp_aUSaElGf_8202_c_310332  u_1oKZeRIXYzGNhGW8OMR3O4lX1ih  MichelleMalone   \n",
       "2    sp_aUSaElGf_2832_c_206522  u_1oKYHUtdaD48KJCDYq5wfpAUxWz       jeannem32   \n",
       "3  sp_aUSaElGf_100276_c_434088  u_1oKZCQcKQZdQhDVBS7oISc216VA           ds422   \n",
       "4   sp_aUSaElGf_19731_c_387011  u_1oKd4sudZQPgu6YALiC7bW7mKMs     SusanHoward   \n",
       "\n",
       "   UserReputation  CreationTimestamp  ReplyCount  ThumbsUpCount  \\\n",
       "0              20         1622717078           0              0   \n",
       "1               1         1622717852           0              0   \n",
       "2               1         1622717357           0              0   \n",
       "3               1         1622648899           0              0   \n",
       "4               1         1622718260           0              0   \n",
       "\n",
       "   ThumbsDownCount  Rating  BestScore  \\\n",
       "0                0       5        100   \n",
       "1                1       5        100   \n",
       "2                0       3        100   \n",
       "3                0       5        100   \n",
       "4                0       4        100   \n",
       "\n",
       "                                       Recipe_Review  \n",
       "0  great recipe! I have made them just as written...  \n",
       "1  This is an easy and quick recipe that is great...  \n",
       "2  I think I was looking for something extra spec...  \n",
       "3  This is our favorite grilled chicken recipe.  ...  \n",
       "4  Great basic recipe. I added 2 teaspoons Tuscan...  "
      ]
     },
     "execution_count": 3,
     "metadata": {},
     "output_type": "execute_result"
    }
   ],
   "source": [
    "train_df.head()"
   ]
  },
  {
   "cell_type": "code",
   "execution_count": 4,
   "id": "e103c9bf",
   "metadata": {
    "execution": {
     "iopub.execute_input": "2024-03-03T17:55:25.566968Z",
     "iopub.status.busy": "2024-03-03T17:55:25.566703Z",
     "iopub.status.idle": "2024-03-03T17:55:25.572029Z",
     "shell.execute_reply": "2024-03-03T17:55:25.571247Z"
    },
    "papermill": {
     "duration": 0.022438,
     "end_time": "2024-03-03T17:55:25.573946",
     "exception": false,
     "start_time": "2024-03-03T17:55:25.551508",
     "status": "completed"
    },
    "tags": []
   },
   "outputs": [
    {
     "data": {
      "text/plain": [
       "(13636, 15)"
      ]
     },
     "execution_count": 4,
     "metadata": {},
     "output_type": "execute_result"
    }
   ],
   "source": [
    "train_df.shape"
   ]
  },
  {
   "cell_type": "code",
   "execution_count": 5,
   "id": "388336e9",
   "metadata": {
    "execution": {
     "iopub.execute_input": "2024-03-03T17:55:25.604295Z",
     "iopub.status.busy": "2024-03-03T17:55:25.604036Z",
     "iopub.status.idle": "2024-03-03T17:55:25.631271Z",
     "shell.execute_reply": "2024-03-03T17:55:25.630175Z"
    },
    "papermill": {
     "duration": 0.044612,
     "end_time": "2024-03-03T17:55:25.633251",
     "exception": false,
     "start_time": "2024-03-03T17:55:25.588639",
     "status": "completed"
    },
    "tags": []
   },
   "outputs": [
    {
     "name": "stdout",
     "output_type": "stream",
     "text": [
      "<class 'pandas.core.frame.DataFrame'>\n",
      "RangeIndex: 13636 entries, 0 to 13635\n",
      "Data columns (total 15 columns):\n",
      " #   Column             Non-Null Count  Dtype \n",
      "---  ------             --------------  ----- \n",
      " 0   ID                 13636 non-null  int64 \n",
      " 1   RecipeNumber       13636 non-null  int64 \n",
      " 2   RecipeCode         13636 non-null  int64 \n",
      " 3   RecipeName         13636 non-null  object\n",
      " 4   CommentID          13636 non-null  object\n",
      " 5   UserID             13636 non-null  object\n",
      " 6   UserName           13636 non-null  object\n",
      " 7   UserReputation     13636 non-null  int64 \n",
      " 8   CreationTimestamp  13636 non-null  int64 \n",
      " 9   ReplyCount         13636 non-null  int64 \n",
      " 10  ThumbsUpCount      13636 non-null  int64 \n",
      " 11  ThumbsDownCount    13636 non-null  int64 \n",
      " 12  Rating             13636 non-null  int64 \n",
      " 13  BestScore          13636 non-null  int64 \n",
      " 14  Recipe_Review      13634 non-null  object\n",
      "dtypes: int64(10), object(5)\n",
      "memory usage: 1.6+ MB\n"
     ]
    }
   ],
   "source": [
    "train_df.info()"
   ]
  },
  {
   "cell_type": "markdown",
   "id": "e4381b0f",
   "metadata": {
    "papermill": {
     "duration": 0.014473,
     "end_time": "2024-03-03T17:55:25.662510",
     "exception": false,
     "start_time": "2024-03-03T17:55:25.648037",
     "status": "completed"
    },
    "tags": []
   },
   "source": [
    "# Summary Statistics"
   ]
  },
  {
   "cell_type": "code",
   "execution_count": 6,
   "id": "904f92c8",
   "metadata": {
    "execution": {
     "iopub.execute_input": "2024-03-03T17:55:25.693631Z",
     "iopub.status.busy": "2024-03-03T17:55:25.693335Z",
     "iopub.status.idle": "2024-03-03T17:55:25.736394Z",
     "shell.execute_reply": "2024-03-03T17:55:25.735554Z"
    },
    "papermill": {
     "duration": 0.060716,
     "end_time": "2024-03-03T17:55:25.738434",
     "exception": false,
     "start_time": "2024-03-03T17:55:25.677718",
     "status": "completed"
    },
    "tags": []
   },
   "outputs": [
    {
     "data": {
      "text/html": [
       "<div>\n",
       "<style scoped>\n",
       "    .dataframe tbody tr th:only-of-type {\n",
       "        vertical-align: middle;\n",
       "    }\n",
       "\n",
       "    .dataframe tbody tr th {\n",
       "        vertical-align: top;\n",
       "    }\n",
       "\n",
       "    .dataframe thead th {\n",
       "        text-align: right;\n",
       "    }\n",
       "</style>\n",
       "<table border=\"1\" class=\"dataframe\">\n",
       "  <thead>\n",
       "    <tr style=\"text-align: right;\">\n",
       "      <th></th>\n",
       "      <th>count</th>\n",
       "      <th>mean</th>\n",
       "      <th>std</th>\n",
       "      <th>min</th>\n",
       "      <th>25%</th>\n",
       "      <th>50%</th>\n",
       "      <th>75%</th>\n",
       "      <th>max</th>\n",
       "    </tr>\n",
       "  </thead>\n",
       "  <tbody>\n",
       "    <tr>\n",
       "      <th>ID</th>\n",
       "      <td>13636.0</td>\n",
       "      <td>1.210853e+02</td>\n",
       "      <td>1.169956e+02</td>\n",
       "      <td>0.000000e+00</td>\n",
       "      <td>4.500000e+01</td>\n",
       "      <td>9.100000e+01</td>\n",
       "      <td>1.480000e+02</td>\n",
       "      <td>7.240000e+02</td>\n",
       "    </tr>\n",
       "    <tr>\n",
       "      <th>RecipeNumber</th>\n",
       "      <td>13636.0</td>\n",
       "      <td>3.862438e+01</td>\n",
       "      <td>2.967235e+01</td>\n",
       "      <td>1.000000e+00</td>\n",
       "      <td>1.200000e+01</td>\n",
       "      <td>3.300000e+01</td>\n",
       "      <td>6.300000e+01</td>\n",
       "      <td>1.000000e+02</td>\n",
       "    </tr>\n",
       "    <tr>\n",
       "      <th>RecipeCode</th>\n",
       "      <td>13636.0</td>\n",
       "      <td>2.178599e+04</td>\n",
       "      <td>2.388319e+04</td>\n",
       "      <td>3.860000e+02</td>\n",
       "      <td>6.504000e+03</td>\n",
       "      <td>1.460000e+04</td>\n",
       "      <td>3.312100e+04</td>\n",
       "      <td>1.917750e+05</td>\n",
       "    </tr>\n",
       "    <tr>\n",
       "      <th>UserReputation</th>\n",
       "      <td>13636.0</td>\n",
       "      <td>2.160311e+00</td>\n",
       "      <td>1.008642e+01</td>\n",
       "      <td>0.000000e+00</td>\n",
       "      <td>1.000000e+00</td>\n",
       "      <td>1.000000e+00</td>\n",
       "      <td>1.000000e+00</td>\n",
       "      <td>5.100000e+02</td>\n",
       "    </tr>\n",
       "    <tr>\n",
       "      <th>CreationTimestamp</th>\n",
       "      <td>13636.0</td>\n",
       "      <td>1.623713e+09</td>\n",
       "      <td>5.444020e+06</td>\n",
       "      <td>1.613035e+09</td>\n",
       "      <td>1.622717e+09</td>\n",
       "      <td>1.622718e+09</td>\n",
       "      <td>1.622718e+09</td>\n",
       "      <td>1.665756e+09</td>\n",
       "    </tr>\n",
       "    <tr>\n",
       "      <th>ReplyCount</th>\n",
       "      <td>13636.0</td>\n",
       "      <td>1.452039e-02</td>\n",
       "      <td>1.373234e-01</td>\n",
       "      <td>0.000000e+00</td>\n",
       "      <td>0.000000e+00</td>\n",
       "      <td>0.000000e+00</td>\n",
       "      <td>0.000000e+00</td>\n",
       "      <td>3.000000e+00</td>\n",
       "    </tr>\n",
       "    <tr>\n",
       "      <th>ThumbsUpCount</th>\n",
       "      <td>13636.0</td>\n",
       "      <td>1.098269e+00</td>\n",
       "      <td>4.166487e+00</td>\n",
       "      <td>0.000000e+00</td>\n",
       "      <td>0.000000e+00</td>\n",
       "      <td>0.000000e+00</td>\n",
       "      <td>0.000000e+00</td>\n",
       "      <td>8.000000e+01</td>\n",
       "    </tr>\n",
       "    <tr>\n",
       "      <th>ThumbsDownCount</th>\n",
       "      <td>13636.0</td>\n",
       "      <td>5.437078e-01</td>\n",
       "      <td>3.265660e+00</td>\n",
       "      <td>0.000000e+00</td>\n",
       "      <td>0.000000e+00</td>\n",
       "      <td>0.000000e+00</td>\n",
       "      <td>0.000000e+00</td>\n",
       "      <td>1.260000e+02</td>\n",
       "    </tr>\n",
       "    <tr>\n",
       "      <th>Rating</th>\n",
       "      <td>13636.0</td>\n",
       "      <td>4.288721e+00</td>\n",
       "      <td>1.544839e+00</td>\n",
       "      <td>0.000000e+00</td>\n",
       "      <td>5.000000e+00</td>\n",
       "      <td>5.000000e+00</td>\n",
       "      <td>5.000000e+00</td>\n",
       "      <td>5.000000e+00</td>\n",
       "    </tr>\n",
       "    <tr>\n",
       "      <th>BestScore</th>\n",
       "      <td>13636.0</td>\n",
       "      <td>1.531279e+02</td>\n",
       "      <td>1.409869e+02</td>\n",
       "      <td>0.000000e+00</td>\n",
       "      <td>1.000000e+02</td>\n",
       "      <td>1.000000e+02</td>\n",
       "      <td>1.000000e+02</td>\n",
       "      <td>9.460000e+02</td>\n",
       "    </tr>\n",
       "  </tbody>\n",
       "</table>\n",
       "</div>"
      ],
      "text/plain": [
       "                     count          mean           std           min  \\\n",
       "ID                 13636.0  1.210853e+02  1.169956e+02  0.000000e+00   \n",
       "RecipeNumber       13636.0  3.862438e+01  2.967235e+01  1.000000e+00   \n",
       "RecipeCode         13636.0  2.178599e+04  2.388319e+04  3.860000e+02   \n",
       "UserReputation     13636.0  2.160311e+00  1.008642e+01  0.000000e+00   \n",
       "CreationTimestamp  13636.0  1.623713e+09  5.444020e+06  1.613035e+09   \n",
       "ReplyCount         13636.0  1.452039e-02  1.373234e-01  0.000000e+00   \n",
       "ThumbsUpCount      13636.0  1.098269e+00  4.166487e+00  0.000000e+00   \n",
       "ThumbsDownCount    13636.0  5.437078e-01  3.265660e+00  0.000000e+00   \n",
       "Rating             13636.0  4.288721e+00  1.544839e+00  0.000000e+00   \n",
       "BestScore          13636.0  1.531279e+02  1.409869e+02  0.000000e+00   \n",
       "\n",
       "                            25%           50%           75%           max  \n",
       "ID                 4.500000e+01  9.100000e+01  1.480000e+02  7.240000e+02  \n",
       "RecipeNumber       1.200000e+01  3.300000e+01  6.300000e+01  1.000000e+02  \n",
       "RecipeCode         6.504000e+03  1.460000e+04  3.312100e+04  1.917750e+05  \n",
       "UserReputation     1.000000e+00  1.000000e+00  1.000000e+00  5.100000e+02  \n",
       "CreationTimestamp  1.622717e+09  1.622718e+09  1.622718e+09  1.665756e+09  \n",
       "ReplyCount         0.000000e+00  0.000000e+00  0.000000e+00  3.000000e+00  \n",
       "ThumbsUpCount      0.000000e+00  0.000000e+00  0.000000e+00  8.000000e+01  \n",
       "ThumbsDownCount    0.000000e+00  0.000000e+00  0.000000e+00  1.260000e+02  \n",
       "Rating             5.000000e+00  5.000000e+00  5.000000e+00  5.000000e+00  \n",
       "BestScore          1.000000e+02  1.000000e+02  1.000000e+02  9.460000e+02  "
      ]
     },
     "execution_count": 6,
     "metadata": {},
     "output_type": "execute_result"
    }
   ],
   "source": [
    "train_df.describe().transpose()"
   ]
  },
  {
   "cell_type": "markdown",
   "id": "49fe18c6",
   "metadata": {
    "papermill": {
     "duration": 0.014744,
     "end_time": "2024-03-03T17:55:25.768294",
     "exception": false,
     "start_time": "2024-03-03T17:55:25.753550",
     "status": "completed"
    },
    "tags": []
   },
   "source": [
    "# Checking Null Values in Our Dataset(if there is any)"
   ]
  },
  {
   "cell_type": "code",
   "execution_count": 7,
   "id": "05504744",
   "metadata": {
    "execution": {
     "iopub.execute_input": "2024-03-03T17:55:25.840816Z",
     "iopub.status.busy": "2024-03-03T17:55:25.840448Z",
     "iopub.status.idle": "2024-03-03T17:55:25.855218Z",
     "shell.execute_reply": "2024-03-03T17:55:25.854376Z"
    },
    "papermill": {
     "duration": 0.073939,
     "end_time": "2024-03-03T17:55:25.857188",
     "exception": false,
     "start_time": "2024-03-03T17:55:25.783249",
     "status": "completed"
    },
    "tags": []
   },
   "outputs": [
    {
     "data": {
      "text/plain": [
       "ID                   0\n",
       "RecipeNumber         0\n",
       "RecipeCode           0\n",
       "RecipeName           0\n",
       "CommentID            0\n",
       "UserID               0\n",
       "UserName             0\n",
       "UserReputation       0\n",
       "CreationTimestamp    0\n",
       "ReplyCount           0\n",
       "ThumbsUpCount        0\n",
       "ThumbsDownCount      0\n",
       "Rating               0\n",
       "BestScore            0\n",
       "Recipe_Review        2\n",
       "dtype: int64"
      ]
     },
     "execution_count": 7,
     "metadata": {},
     "output_type": "execute_result"
    }
   ],
   "source": [
    "train_df.isnull().sum()"
   ]
  },
  {
   "cell_type": "markdown",
   "id": "0036992b",
   "metadata": {
    "papermill": {
     "duration": 0.015379,
     "end_time": "2024-03-03T17:55:25.887937",
     "exception": false,
     "start_time": "2024-03-03T17:55:25.872558",
     "status": "completed"
    },
    "tags": []
   },
   "source": [
    "## We can see 2 null values in our train data. We will deal with it later."
   ]
  },
  {
   "cell_type": "code",
   "execution_count": 8,
   "id": "64d31329",
   "metadata": {
    "execution": {
     "iopub.execute_input": "2024-03-03T17:55:25.920033Z",
     "iopub.status.busy": "2024-03-03T17:55:25.919391Z",
     "iopub.status.idle": "2024-03-03T17:55:25.928603Z",
     "shell.execute_reply": "2024-03-03T17:55:25.927788Z"
    },
    "papermill": {
     "duration": 0.027694,
     "end_time": "2024-03-03T17:55:25.930867",
     "exception": false,
     "start_time": "2024-03-03T17:55:25.903173",
     "status": "completed"
    },
    "tags": []
   },
   "outputs": [
    {
     "data": {
      "text/plain": [
       "ID                   0\n",
       "RecipeNumber         0\n",
       "RecipeCode           0\n",
       "RecipeName           0\n",
       "CommentID            0\n",
       "UserID               0\n",
       "UserName             0\n",
       "UserReputation       0\n",
       "CreationTimestamp    0\n",
       "ReplyCount           0\n",
       "ThumbsUpCount        0\n",
       "ThumbsDownCount      0\n",
       "BestScore            0\n",
       "Recipe_Review        0\n",
       "dtype: int64"
      ]
     },
     "execution_count": 8,
     "metadata": {},
     "output_type": "execute_result"
    }
   ],
   "source": [
    "test_df.isnull().sum()"
   ]
  },
  {
   "cell_type": "markdown",
   "id": "2e1ec5b3",
   "metadata": {
    "papermill": {
     "duration": 0.015033,
     "end_time": "2024-03-03T17:55:25.961474",
     "exception": false,
     "start_time": "2024-03-03T17:55:25.946441",
     "status": "completed"
    },
    "tags": []
   },
   "source": [
    "## We don't have null values in test dataset. Therefore we need not to worry about replacing any null values here"
   ]
  },
  {
   "cell_type": "markdown",
   "id": "133b1e9f",
   "metadata": {
    "papermill": {
     "duration": 0.01516,
     "end_time": "2024-03-03T17:55:25.991912",
     "exception": false,
     "start_time": "2024-03-03T17:55:25.976752",
     "status": "completed"
    },
    "tags": []
   },
   "source": [
    "# Drop rows with missing values"
   ]
  },
  {
   "cell_type": "code",
   "execution_count": 9,
   "id": "92d2283a",
   "metadata": {
    "execution": {
     "iopub.execute_input": "2024-03-03T17:55:26.025381Z",
     "iopub.status.busy": "2024-03-03T17:55:26.025119Z",
     "iopub.status.idle": "2024-03-03T17:55:26.039698Z",
     "shell.execute_reply": "2024-03-03T17:55:26.038942Z"
    },
    "papermill": {
     "duration": 0.034042,
     "end_time": "2024-03-03T17:55:26.041662",
     "exception": false,
     "start_time": "2024-03-03T17:55:26.007620",
     "status": "completed"
    },
    "tags": []
   },
   "outputs": [],
   "source": [
    "train_df.dropna(inplace=True)"
   ]
  },
  {
   "cell_type": "markdown",
   "id": "a50c85ac",
   "metadata": {
    "papermill": {
     "duration": 0.01616,
     "end_time": "2024-03-03T17:55:26.073335",
     "exception": false,
     "start_time": "2024-03-03T17:55:26.057175",
     "status": "completed"
    },
    "tags": []
   },
   "source": [
    "# GRAPH "
   ]
  },
  {
   "cell_type": "code",
   "execution_count": 10,
   "id": "75d89822",
   "metadata": {
    "execution": {
     "iopub.execute_input": "2024-03-03T17:55:26.105780Z",
     "iopub.status.busy": "2024-03-03T17:55:26.105187Z",
     "iopub.status.idle": "2024-03-03T17:55:26.422074Z",
     "shell.execute_reply": "2024-03-03T17:55:26.421231Z"
    },
    "papermill": {
     "duration": 0.335423,
     "end_time": "2024-03-03T17:55:26.424240",
     "exception": false,
     "start_time": "2024-03-03T17:55:26.088817",
     "status": "completed"
    },
    "tags": []
   },
   "outputs": [
    {
     "data": {
      "image/png": "[encoded data removed]",
      "text/plain": [
       "<Figure size 640x480 with 1 Axes>"
      ]
     },
     "metadata": {},
     "output_type": "display_data"
    }
   ],
   "source": [
    "import matplotlib.pyplot as plt\n",
    "\n",
    "df = train_df.copy()\n",
    "\n",
    "plt.scatter(df[\"UserReputation\"], df[\"Rating\"], alpha=0.5)\n",
    "plt.title(\"User Reputation vs Rating\")\n",
    "plt.xlabel(\"User Reputation\")\n",
    "plt.ylabel(\"Rating\")\n",
    "plt.show()"
   ]
  },
  {
   "cell_type": "markdown",
   "id": "7739c7e9",
   "metadata": {
    "papermill": {
     "duration": 0.015691,
     "end_time": "2024-03-03T17:55:26.455963",
     "exception": false,
     "start_time": "2024-03-03T17:55:26.440272",
     "status": "completed"
    },
    "tags": []
   },
   "source": [
    "# Feature Engineering "
   ]
  },
  {
   "cell_type": "code",
   "execution_count": 11,
   "id": "63ee6a37",
   "metadata": {
    "execution": {
     "iopub.execute_input": "2024-03-03T17:55:26.488393Z",
     "iopub.status.busy": "2024-03-03T17:55:26.488117Z",
     "iopub.status.idle": "2024-03-03T17:55:26.503114Z",
     "shell.execute_reply": "2024-03-03T17:55:26.502221Z"
    },
    "papermill": {
     "duration": 0.033404,
     "end_time": "2024-03-03T17:55:26.504956",
     "exception": false,
     "start_time": "2024-03-03T17:55:26.471552",
     "status": "completed"
    },
    "tags": []
   },
   "outputs": [
    {
     "data": {
      "text/html": [
       "<div>\n",
       "<style scoped>\n",
       "    .dataframe tbody tr th:only-of-type {\n",
       "        vertical-align: middle;\n",
       "    }\n",
       "\n",
       "    .dataframe tbody tr th {\n",
       "        vertical-align: top;\n",
       "    }\n",
       "\n",
       "    .dataframe thead th {\n",
       "        text-align: right;\n",
       "    }\n",
       "</style>\n",
       "<table border=\"1\" class=\"dataframe\">\n",
       "  <thead>\n",
       "    <tr style=\"text-align: right;\">\n",
       "      <th></th>\n",
       "      <th>ID</th>\n",
       "      <th>RecipeNumber</th>\n",
       "      <th>RecipeCode</th>\n",
       "      <th>RecipeName</th>\n",
       "      <th>CommentID</th>\n",
       "      <th>UserID</th>\n",
       "      <th>UserName</th>\n",
       "      <th>UserReputation</th>\n",
       "      <th>CreationTimestamp</th>\n",
       "      <th>ReplyCount</th>\n",
       "      <th>ThumbsUpCount</th>\n",
       "      <th>ThumbsDownCount</th>\n",
       "      <th>Rating</th>\n",
       "      <th>BestScore</th>\n",
       "      <th>Recipe_Review</th>\n",
       "    </tr>\n",
       "  </thead>\n",
       "  <tbody>\n",
       "    <tr>\n",
       "      <th>0</th>\n",
       "      <td>70</td>\n",
       "      <td>71</td>\n",
       "      <td>12259</td>\n",
       "      <td>Banana Bars with Cream Cheese Frosting</td>\n",
       "      <td>sp_aUSaElGf_12259_c_149978</td>\n",
       "      <td>u_1oKVaBmiEKwAFyiHrDLoWpbel0J</td>\n",
       "      <td>misscoffeepot</td>\n",
       "      <td>20</td>\n",
       "      <td>1622717078</td>\n",
       "      <td>0</td>\n",
       "      <td>0</td>\n",
       "      <td>0</td>\n",
       "      <td>5</td>\n",
       "      <td>100</td>\n",
       "      <td>great recipe! I have made them just as written...</td>\n",
       "    </tr>\n",
       "    <tr>\n",
       "      <th>1</th>\n",
       "      <td>72</td>\n",
       "      <td>88</td>\n",
       "      <td>8202</td>\n",
       "      <td>Simple Taco Soup</td>\n",
       "      <td>sp_aUSaElGf_8202_c_310332</td>\n",
       "      <td>u_1oKZeRIXYzGNhGW8OMR3O4lX1ih</td>\n",
       "      <td>MichelleMalone</td>\n",
       "      <td>1</td>\n",
       "      <td>1622717852</td>\n",
       "      <td>0</td>\n",
       "      <td>0</td>\n",
       "      <td>1</td>\n",
       "      <td>5</td>\n",
       "      <td>100</td>\n",
       "      <td>This is an easy and quick recipe that is great...</td>\n",
       "    </tr>\n",
       "    <tr>\n",
       "      <th>2</th>\n",
       "      <td>458</td>\n",
       "      <td>3</td>\n",
       "      <td>2832</td>\n",
       "      <td>Cheeseburger Soup</td>\n",
       "      <td>sp_aUSaElGf_2832_c_206522</td>\n",
       "      <td>u_1oKYHUtdaD48KJCDYq5wfpAUxWz</td>\n",
       "      <td>jeannem32</td>\n",
       "      <td>1</td>\n",
       "      <td>1622717357</td>\n",
       "      <td>0</td>\n",
       "      <td>0</td>\n",
       "      <td>0</td>\n",
       "      <td>3</td>\n",
       "      <td>100</td>\n",
       "      <td>I think I was looking for something extra spec...</td>\n",
       "    </tr>\n",
       "    <tr>\n",
       "      <th>3</th>\n",
       "      <td>7</td>\n",
       "      <td>50</td>\n",
       "      <td>100276</td>\n",
       "      <td>Grilled Huli Huli Chicken</td>\n",
       "      <td>sp_aUSaElGf_100276_c_434088</td>\n",
       "      <td>u_1oKZCQcKQZdQhDVBS7oISc216VA</td>\n",
       "      <td>ds422</td>\n",
       "      <td>1</td>\n",
       "      <td>1622648899</td>\n",
       "      <td>0</td>\n",
       "      <td>0</td>\n",
       "      <td>0</td>\n",
       "      <td>5</td>\n",
       "      <td>100</td>\n",
       "      <td>This is our favorite grilled chicken recipe.  ...</td>\n",
       "    </tr>\n",
       "    <tr>\n",
       "      <th>4</th>\n",
       "      <td>60</td>\n",
       "      <td>12</td>\n",
       "      <td>19731</td>\n",
       "      <td>Cauliflower Soup</td>\n",
       "      <td>sp_aUSaElGf_19731_c_387011</td>\n",
       "      <td>u_1oKd4sudZQPgu6YALiC7bW7mKMs</td>\n",
       "      <td>SusanHoward</td>\n",
       "      <td>1</td>\n",
       "      <td>1622718260</td>\n",
       "      <td>0</td>\n",
       "      <td>0</td>\n",
       "      <td>0</td>\n",
       "      <td>4</td>\n",
       "      <td>100</td>\n",
       "      <td>Great basic recipe. I added 2 teaspoons Tuscan...</td>\n",
       "    </tr>\n",
       "  </tbody>\n",
       "</table>\n",
       "</div>"
      ],
      "text/plain": [
       "    ID  RecipeNumber  RecipeCode                              RecipeName  \\\n",
       "0   70            71       12259  Banana Bars with Cream Cheese Frosting   \n",
       "1   72            88        8202                        Simple Taco Soup   \n",
       "2  458             3        2832                       Cheeseburger Soup   \n",
       "3    7            50      100276               Grilled Huli Huli Chicken   \n",
       "4   60            12       19731                        Cauliflower Soup   \n",
       "\n",
       "                     CommentID                         UserID        UserName  \\\n",
       "0   sp_aUSaElGf_12259_c_149978  u_1oKVaBmiEKwAFyiHrDLoWpbel0J   misscoffeepot   \n",
       "1    sp_aUSaElGf_8202_c_310332  u_1oKZeRIXYzGNhGW8OMR3O4lX1ih  MichelleMalone   \n",
       "2    sp_aUSaElGf_2832_c_206522  u_1oKYHUtdaD48KJCDYq5wfpAUxWz       jeannem32   \n",
       "3  sp_aUSaElGf_100276_c_434088  u_1oKZCQcKQZdQhDVBS7oISc216VA           ds422   \n",
       "4   sp_aUSaElGf_19731_c_387011  u_1oKd4sudZQPgu6YALiC7bW7mKMs     SusanHoward   \n",
       "\n",
       "   UserReputation  CreationTimestamp  ReplyCount  ThumbsUpCount  \\\n",
       "0              20         1622717078           0              0   \n",
       "1               1         1622717852           0              0   \n",
       "2               1         1622717357           0              0   \n",
       "3               1         1622648899           0              0   \n",
       "4               1         1622718260           0              0   \n",
       "\n",
       "   ThumbsDownCount  Rating  BestScore  \\\n",
       "0                0       5        100   \n",
       "1                1       5        100   \n",
       "2                0       3        100   \n",
       "3                0       5        100   \n",
       "4                0       4        100   \n",
       "\n",
       "                                       Recipe_Review  \n",
       "0  great recipe! I have made them just as written...  \n",
       "1  This is an easy and quick recipe that is great...  \n",
       "2  I think I was looking for something extra spec...  \n",
       "3  This is our favorite grilled chicken recipe.  ...  \n",
       "4  Great basic recipe. I added 2 teaspoons Tuscan...  "
      ]
     },
     "execution_count": 11,
     "metadata": {},
     "output_type": "execute_result"
    }
   ],
   "source": [
    "train_df.head(5)"
   ]
  },
  {
   "cell_type": "markdown",
   "id": "9e8dbe15",
   "metadata": {
    "papermill": {
     "duration": 0.016202,
     "end_time": "2024-03-03T17:55:26.537603",
     "exception": false,
     "start_time": "2024-03-03T17:55:26.521401",
     "status": "completed"
    },
    "tags": []
   },
   "source": [
    "## Here we are creating a single columns using two different columns ( 'ThumbsUpCount' and 'ThumbsDownCount')"
   ]
  },
  {
   "cell_type": "code",
   "execution_count": 12,
   "id": "40dddafb",
   "metadata": {
    "execution": {
     "iopub.execute_input": "2024-03-03T17:55:26.572014Z",
     "iopub.status.busy": "2024-03-03T17:55:26.571544Z",
     "iopub.status.idle": "2024-03-03T17:55:26.578527Z",
     "shell.execute_reply": "2024-03-03T17:55:26.577590Z"
    },
    "papermill": {
     "duration": 0.026581,
     "end_time": "2024-03-03T17:55:26.580508",
     "exception": false,
     "start_time": "2024-03-03T17:55:26.553927",
     "status": "completed"
    },
    "tags": []
   },
   "outputs": [],
   "source": [
    "train_df['ThumbsRatio'] = train_df['ThumbsUpCount'] / train_df['ThumbsDownCount']\n",
    "test_df['ThumbsRatio'] = test_df['ThumbsUpCount'] / test_df['ThumbsDownCount']"
   ]
  },
  {
   "cell_type": "markdown",
   "id": "1bf5ab90",
   "metadata": {
    "papermill": {
     "duration": 0.016225,
     "end_time": "2024-03-03T17:55:26.613543",
     "exception": false,
     "start_time": "2024-03-03T17:55:26.597318",
     "status": "completed"
    },
    "tags": []
   },
   "source": [
    "## Here we are replacing NA Values with zero (Which came upon division with zero)."
   ]
  },
  {
   "cell_type": "code",
   "execution_count": 13,
   "id": "fd95afd8",
   "metadata": {
    "execution": {
     "iopub.execute_input": "2024-03-03T17:55:26.647638Z",
     "iopub.status.busy": "2024-03-03T17:55:26.647091Z",
     "iopub.status.idle": "2024-03-03T17:55:26.653018Z",
     "shell.execute_reply": "2024-03-03T17:55:26.652078Z"
    },
    "papermill": {
     "duration": 0.025131,
     "end_time": "2024-03-03T17:55:26.654963",
     "exception": false,
     "start_time": "2024-03-03T17:55:26.629832",
     "status": "completed"
    },
    "tags": []
   },
   "outputs": [],
   "source": [
    "train_df['ThumbsRatio'] = train_df['ThumbsRatio'].fillna(0)\n",
    "test_df['ThumbsRatio'] = test_df['ThumbsRatio'].fillna(0)"
   ]
  },
  {
   "cell_type": "markdown",
   "id": "7c6b536b",
   "metadata": {
    "papermill": {
     "duration": 0.016316,
     "end_time": "2024-03-03T17:55:26.687584",
     "exception": false,
     "start_time": "2024-03-03T17:55:26.671268",
     "status": "completed"
    },
    "tags": []
   },
   "source": [
    "## We are counting frequency of words here (for better data cleaning)"
   ]
  },
  {
   "cell_type": "code",
   "execution_count": 14,
   "id": "afb45367",
   "metadata": {
    "execution": {
     "iopub.execute_input": "2024-03-03T17:55:26.721658Z",
     "iopub.status.busy": "2024-03-03T17:55:26.721370Z",
     "iopub.status.idle": "2024-03-03T17:55:28.658933Z",
     "shell.execute_reply": "2024-03-03T17:55:28.657784Z"
    },
    "papermill": {
     "duration": 1.95736,
     "end_time": "2024-03-03T17:55:28.661196",
     "exception": false,
     "start_time": "2024-03-03T17:55:26.703836",
     "status": "completed"
    },
    "tags": []
   },
   "outputs": [
    {
     "name": "stderr",
     "output_type": "stream",
     "text": [
      "/opt/conda/lib/python3.10/site-packages/scipy/__init__.py:146: UserWarning: A NumPy version >=1.16.5 and <1.23.0 is required for this version of SciPy (detected version 1.24.3\n",
      "  warnings.warn(f\"A NumPy version >={np_minversion} and <{np_maxversion}\"\n"
     ]
    },
    {
     "name": "stdout",
     "output_type": "stream",
     "text": [
      "Top Words by Count:\n",
      "           Count\n",
      "recipe      7454\n",
      "39          7210\n",
      "make        4470\n",
      "used        3233\n",
      "good        2771\n",
      "time        2411\n",
      "delicious   2361\n",
      "great       2261\n",
      "added       2141\n",
      "easy        2110\n",
      "just        2043\n",
      "family      1950\n",
      "use         1933\n",
      "like        1789\n",
      "loved       1699\n",
      "cake        1481\n",
      "love        1460\n",
      "add         1444\n",
      "did         1442\n",
      "soup        1404\n",
      "instead     1377\n",
      "34          1343\n",
      "cheese      1315\n",
      "really      1286\n",
      "chicken     1265\n",
      "\n",
      "Top Terms by TF-IDF Score:\n",
      "           TF-IDF Score\n",
      "recipe       647.953526\n",
      "39           598.394605\n",
      "make         514.147503\n",
      "good         440.570574\n",
      "delicious    408.382574\n",
      "easy         395.425362\n",
      "great        347.075513\n",
      "family       336.263817\n",
      "loved        328.495955\n",
      "used         320.642210\n"
     ]
    }
   ],
   "source": [
    "from sklearn.feature_extraction.text import CountVectorizer, TfidfVectorizer\n",
    "\n",
    "reviews = train_df['Recipe_Review']\n",
    "\n",
    "count_vectorizer = CountVectorizer(stop_words='english')\n",
    "count_matrix = count_vectorizer.fit_transform(reviews)\n",
    "\n",
    "word_count_df = pd.DataFrame(count_matrix.sum(axis=0), columns=count_vectorizer.get_feature_names_out())\n",
    "word_count_df = word_count_df.transpose()\n",
    "word_count_df.columns = ['Count']\n",
    "\n",
    "top_words = word_count_df.sort_values(by='Count', ascending=False).head(25)\n",
    "print(\"Top Words by Count:\")\n",
    "print(top_words)\n",
    "\n",
    "tfidf_vectorizer = TfidfVectorizer(stop_words='english')\n",
    "tfidf_matrix = tfidf_vectorizer.fit_transform(reviews)\n",
    "\n",
    "tfidf_df = pd.DataFrame(tfidf_matrix.sum(axis=0), columns=tfidf_vectorizer.get_feature_names_out())\n",
    "tfidf_df = tfidf_df.transpose()\n",
    "tfidf_df.columns = ['TF-IDF Score']\n",
    "\n",
    "top_tfidf_terms = tfidf_df.sort_values(by='TF-IDF Score', ascending=False).head(10)\n",
    "print(\"\\nTop Terms by TF-IDF Score:\")\n",
    "print(top_tfidf_terms)\n"
   ]
  },
  {
   "cell_type": "markdown",
   "id": "1a6aa235",
   "metadata": {
    "papermill": {
     "duration": 0.016474,
     "end_time": "2024-03-03T17:55:28.695357",
     "exception": false,
     "start_time": "2024-03-03T17:55:28.678883",
     "status": "completed"
    },
    "tags": []
   },
   "source": [
    "We can see words like '39' and '34' are some of the unuseful words for our desired prediction for rating. So we will remove these words."
   ]
  },
  {
   "cell_type": "code",
   "execution_count": 15,
   "id": "1af5c629",
   "metadata": {
    "execution": {
     "iopub.execute_input": "2024-03-03T17:55:28.731356Z",
     "iopub.status.busy": "2024-03-03T17:55:28.730462Z",
     "iopub.status.idle": "2024-03-03T17:55:28.768378Z",
     "shell.execute_reply": "2024-03-03T17:55:28.767638Z"
    },
    "papermill": {
     "duration": 0.058099,
     "end_time": "2024-03-03T17:55:28.770388",
     "exception": false,
     "start_time": "2024-03-03T17:55:28.712289",
     "status": "completed"
    },
    "tags": []
   },
   "outputs": [],
   "source": [
    "train_df['Recipe_Review'] = train_df['Recipe_Review'].str.replace('39', '')\n",
    "test_df['Recipe_Review'] = test_df['Recipe_Review'].str.replace('39', '')\n",
    "\n",
    "\n",
    "train_df['Recipe_Review'] = train_df['Recipe_Review'].str.replace('34', '')\n",
    "test_df['Recipe_Review'] = test_df['Recipe_Review'].str.replace('34', '')"
   ]
  },
  {
   "cell_type": "code",
   "execution_count": 16,
   "id": "82e9ce62",
   "metadata": {
    "execution": {
     "iopub.execute_input": "2024-03-03T17:55:28.804539Z",
     "iopub.status.busy": "2024-03-03T17:55:28.804251Z",
     "iopub.status.idle": "2024-03-03T17:55:29.031472Z",
     "shell.execute_reply": "2024-03-03T17:55:29.030222Z"
    },
    "papermill": {
     "duration": 0.246876,
     "end_time": "2024-03-03T17:55:29.033949",
     "exception": false,
     "start_time": "2024-03-03T17:55:28.787073",
     "status": "completed"
    },
    "tags": []
   },
   "outputs": [],
   "source": [
    "common_words = ['recipe', 'make', 'used']\n",
    "train_df['Recipe_Review'] = train_df['Recipe_Review'].apply(lambda x: ' '.join([word for word in x.split() if word.lower() not in common_words]))\n",
    "test_df['Recipe_Review'] = test_df['Recipe_Review'].apply(lambda x: ' '.join([word for word in x.split() if word.lower() not in common_words]))"
   ]
  },
  {
   "cell_type": "markdown",
   "id": "3b4e3f50",
   "metadata": {
    "papermill": {
     "duration": 0.01804,
     "end_time": "2024-03-03T17:55:29.069106",
     "exception": false,
     "start_time": "2024-03-03T17:55:29.051066",
     "status": "completed"
    },
    "tags": []
   },
   "source": [
    "Here we are removing the words which are not very useful for our desired prediction for rating. So we will remove these words."
   ]
  },
  {
   "cell_type": "code",
   "execution_count": 17,
   "id": "1728719f",
   "metadata": {
    "execution": {
     "iopub.execute_input": "2024-03-03T17:55:29.114967Z",
     "iopub.status.busy": "2024-03-03T17:55:29.114403Z",
     "iopub.status.idle": "2024-03-03T17:55:29.121994Z",
     "shell.execute_reply": "2024-03-03T17:55:29.120997Z"
    },
    "papermill": {
     "duration": 0.03232,
     "end_time": "2024-03-03T17:55:29.124620",
     "exception": false,
     "start_time": "2024-03-03T17:55:29.092300",
     "status": "completed"
    },
    "tags": []
   },
   "outputs": [
    {
     "data": {
      "text/plain": [
       "Index(['ID', 'RecipeNumber', 'RecipeCode', 'RecipeName', 'CommentID', 'UserID',\n",
       "       'UserName', 'UserReputation', 'CreationTimestamp', 'ReplyCount',\n",
       "       'ThumbsUpCount', 'ThumbsDownCount', 'Rating', 'BestScore',\n",
       "       'Recipe_Review', 'ThumbsRatio'],\n",
       "      dtype='object')"
      ]
     },
     "execution_count": 17,
     "metadata": {},
     "output_type": "execute_result"
    }
   ],
   "source": [
    "train_df.columns"
   ]
  },
  {
   "cell_type": "code",
   "execution_count": 18,
   "id": "dfca536f",
   "metadata": {
    "execution": {
     "iopub.execute_input": "2024-03-03T17:55:29.160600Z",
     "iopub.status.busy": "2024-03-03T17:55:29.159984Z",
     "iopub.status.idle": "2024-03-03T17:55:29.164327Z",
     "shell.execute_reply": "2024-03-03T17:55:29.163543Z"
    },
    "papermill": {
     "duration": 0.023665,
     "end_time": "2024-03-03T17:55:29.166126",
     "exception": false,
     "start_time": "2024-03-03T17:55:29.142461",
     "status": "completed"
    },
    "tags": []
   },
   "outputs": [],
   "source": [
    "columns_to_drop_from_train = ['ID', 'RecipeName', 'RecipeNumber', 'CommentID', 'UserName', 'Rating', 'CreationTimestamp', 'ReplyCount', 'ThumbsUpCount', 'ThumbsDownCount']"
   ]
  },
  {
   "cell_type": "markdown",
   "id": "a24e9b0e",
   "metadata": {
    "papermill": {
     "duration": 0.01648,
     "end_time": "2024-03-03T17:55:29.199112",
     "exception": false,
     "start_time": "2024-03-03T17:55:29.182632",
     "status": "completed"
    },
    "tags": []
   },
   "source": [
    "We're removing the ID, RecipeName, and RecipeNumber because we already have the RecipeCode to identify specific recipes. CommentID, UserName, Rating, and CreationTimeStamp aren't very helpful for our Rating Prediction. Since we've already calculated the ThumbsRatio, we can drop ThumbsUpCount and ThumbsDownCount as well."
   ]
  },
  {
   "cell_type": "code",
   "execution_count": 19,
   "id": "6e3b158e",
   "metadata": {
    "execution": {
     "iopub.execute_input": "2024-03-03T17:55:29.233416Z",
     "iopub.status.busy": "2024-03-03T17:55:29.232867Z",
     "iopub.status.idle": "2024-03-03T17:55:29.238843Z",
     "shell.execute_reply": "2024-03-03T17:55:29.238001Z"
    },
    "papermill": {
     "duration": 0.025499,
     "end_time": "2024-03-03T17:55:29.240995",
     "exception": false,
     "start_time": "2024-03-03T17:55:29.215496",
     "status": "completed"
    },
    "tags": []
   },
   "outputs": [],
   "source": [
    "X = train_df.drop(columns_to_drop_from_train, axis=1)\n",
    "y = train_df['Rating']"
   ]
  },
  {
   "cell_type": "code",
   "execution_count": 20,
   "id": "e69afc71",
   "metadata": {
    "execution": {
     "iopub.execute_input": "2024-03-03T17:55:29.275919Z",
     "iopub.status.busy": "2024-03-03T17:55:29.275614Z",
     "iopub.status.idle": "2024-03-03T17:55:29.286938Z",
     "shell.execute_reply": "2024-03-03T17:55:29.286083Z"
    },
    "papermill": {
     "duration": 0.030978,
     "end_time": "2024-03-03T17:55:29.289065",
     "exception": false,
     "start_time": "2024-03-03T17:55:29.258087",
     "status": "completed"
    },
    "tags": []
   },
   "outputs": [
    {
     "data": {
      "text/html": [
       "<div>\n",
       "<style scoped>\n",
       "    .dataframe tbody tr th:only-of-type {\n",
       "        vertical-align: middle;\n",
       "    }\n",
       "\n",
       "    .dataframe tbody tr th {\n",
       "        vertical-align: top;\n",
       "    }\n",
       "\n",
       "    .dataframe thead th {\n",
       "        text-align: right;\n",
       "    }\n",
       "</style>\n",
       "<table border=\"1\" class=\"dataframe\">\n",
       "  <thead>\n",
       "    <tr style=\"text-align: right;\">\n",
       "      <th></th>\n",
       "      <th>RecipeCode</th>\n",
       "      <th>UserID</th>\n",
       "      <th>UserReputation</th>\n",
       "      <th>BestScore</th>\n",
       "      <th>Recipe_Review</th>\n",
       "      <th>ThumbsRatio</th>\n",
       "    </tr>\n",
       "  </thead>\n",
       "  <tbody>\n",
       "    <tr>\n",
       "      <th>0</th>\n",
       "      <td>12259</td>\n",
       "      <td>u_1oKVaBmiEKwAFyiHrDLoWpbel0J</td>\n",
       "      <td>20</td>\n",
       "      <td>100</td>\n",
       "      <td>great recipe! I have made them just as written...</td>\n",
       "      <td>0.0</td>\n",
       "    </tr>\n",
       "    <tr>\n",
       "      <th>1</th>\n",
       "      <td>8202</td>\n",
       "      <td>u_1oKZeRIXYzGNhGW8OMR3O4lX1ih</td>\n",
       "      <td>1</td>\n",
       "      <td>100</td>\n",
       "      <td>This is an easy and quick that is great for th...</td>\n",
       "      <td>0.0</td>\n",
       "    </tr>\n",
       "    <tr>\n",
       "      <th>2</th>\n",
       "      <td>2832</td>\n",
       "      <td>u_1oKYHUtdaD48KJCDYq5wfpAUxWz</td>\n",
       "      <td>1</td>\n",
       "      <td>100</td>\n",
       "      <td>I think I was looking for something extra spec...</td>\n",
       "      <td>0.0</td>\n",
       "    </tr>\n",
       "    <tr>\n",
       "      <th>3</th>\n",
       "      <td>100276</td>\n",
       "      <td>u_1oKZCQcKQZdQhDVBS7oISc216VA</td>\n",
       "      <td>1</td>\n",
       "      <td>100</td>\n",
       "      <td>This is our favorite grilled chicken recipe. G...</td>\n",
       "      <td>0.0</td>\n",
       "    </tr>\n",
       "    <tr>\n",
       "      <th>4</th>\n",
       "      <td>19731</td>\n",
       "      <td>u_1oKd4sudZQPgu6YALiC7bW7mKMs</td>\n",
       "      <td>1</td>\n",
       "      <td>100</td>\n",
       "      <td>Great basic recipe. I added 2 teaspoons Tuscan...</td>\n",
       "      <td>0.0</td>\n",
       "    </tr>\n",
       "  </tbody>\n",
       "</table>\n",
       "</div>"
      ],
      "text/plain": [
       "   RecipeCode                         UserID  UserReputation  BestScore  \\\n",
       "0       12259  u_1oKVaBmiEKwAFyiHrDLoWpbel0J              20        100   \n",
       "1        8202  u_1oKZeRIXYzGNhGW8OMR3O4lX1ih               1        100   \n",
       "2        2832  u_1oKYHUtdaD48KJCDYq5wfpAUxWz               1        100   \n",
       "3      100276  u_1oKZCQcKQZdQhDVBS7oISc216VA               1        100   \n",
       "4       19731  u_1oKd4sudZQPgu6YALiC7bW7mKMs               1        100   \n",
       "\n",
       "                                       Recipe_Review  ThumbsRatio  \n",
       "0  great recipe! I have made them just as written...          0.0  \n",
       "1  This is an easy and quick that is great for th...          0.0  \n",
       "2  I think I was looking for something extra spec...          0.0  \n",
       "3  This is our favorite grilled chicken recipe. G...          0.0  \n",
       "4  Great basic recipe. I added 2 teaspoons Tuscan...          0.0  "
      ]
     },
     "execution_count": 20,
     "metadata": {},
     "output_type": "execute_result"
    }
   ],
   "source": [
    "X.head(5)"
   ]
  },
  {
   "cell_type": "code",
   "execution_count": 21,
   "id": "a3315bb6",
   "metadata": {
    "execution": {
     "iopub.execute_input": "2024-03-03T17:55:29.333043Z",
     "iopub.status.busy": "2024-03-03T17:55:29.332723Z",
     "iopub.status.idle": "2024-03-03T17:55:29.339300Z",
     "shell.execute_reply": "2024-03-03T17:55:29.338457Z"
    },
    "papermill": {
     "duration": 0.031628,
     "end_time": "2024-03-03T17:55:29.341640",
     "exception": false,
     "start_time": "2024-03-03T17:55:29.310012",
     "status": "completed"
    },
    "tags": []
   },
   "outputs": [
    {
     "data": {
      "text/plain": [
       "0    5\n",
       "1    5\n",
       "2    3\n",
       "3    5\n",
       "4    4\n",
       "Name: Rating, dtype: int64"
      ]
     },
     "execution_count": 21,
     "metadata": {},
     "output_type": "execute_result"
    }
   ],
   "source": [
    "y.head(5)"
   ]
  },
  {
   "cell_type": "code",
   "execution_count": 22,
   "id": "92142665",
   "metadata": {
    "execution": {
     "iopub.execute_input": "2024-03-03T17:55:29.388859Z",
     "iopub.status.busy": "2024-03-03T17:55:29.388241Z",
     "iopub.status.idle": "2024-03-03T17:55:29.393965Z",
     "shell.execute_reply": "2024-03-03T17:55:29.393124Z"
    },
    "papermill": {
     "duration": 0.031157,
     "end_time": "2024-03-03T17:55:29.395764",
     "exception": false,
     "start_time": "2024-03-03T17:55:29.364607",
     "status": "completed"
    },
    "tags": []
   },
   "outputs": [],
   "source": [
    "test_df = test_df.drop(['ID', 'RecipeName', 'RecipeNumber', 'CommentID', 'UserName', 'CreationTimestamp', 'ReplyCount', 'ThumbsUpCount', 'ThumbsDownCount'], axis=1)"
   ]
  },
  {
   "cell_type": "markdown",
   "id": "5c61885e",
   "metadata": {
    "papermill": {
     "duration": 0.016391,
     "end_time": "2024-03-03T17:55:29.428928",
     "exception": false,
     "start_time": "2024-03-03T17:55:29.412537",
     "status": "completed"
    },
    "tags": []
   },
   "source": [
    "Similar thing has been done (as we did in train dataset)"
   ]
  },
  {
   "cell_type": "markdown",
   "id": "cc881206",
   "metadata": {
    "papermill": {
     "duration": 0.01649,
     "end_time": "2024-03-03T17:55:29.462059",
     "exception": false,
     "start_time": "2024-03-03T17:55:29.445569",
     "status": "completed"
    },
    "tags": []
   },
   "source": [
    "# Creating Pipeline after train_test_split"
   ]
  },
  {
   "cell_type": "code",
   "execution_count": 23,
   "id": "a9aafa6c",
   "metadata": {
    "execution": {
     "iopub.execute_input": "2024-03-03T17:55:29.496388Z",
     "iopub.status.busy": "2024-03-03T17:55:29.496087Z",
     "iopub.status.idle": "2024-03-03T17:55:29.575569Z",
     "shell.execute_reply": "2024-03-03T17:55:29.574866Z"
    },
    "papermill": {
     "duration": 0.09892,
     "end_time": "2024-03-03T17:55:29.577567",
     "exception": false,
     "start_time": "2024-03-03T17:55:29.478647",
     "status": "completed"
    },
    "tags": []
   },
   "outputs": [],
   "source": [
    "from sklearn.model_selection import train_test_split\n",
    "from sklearn.feature_extraction.text import TfidfVectorizer\n",
    "from sklearn.compose import ColumnTransformer\n",
    "from sklearn.pipeline import Pipeline\n",
    "from sklearn.metrics import accuracy_score, classification_report\n",
    "from sklearn.preprocessing import OneHotEncoder"
   ]
  },
  {
   "cell_type": "code",
   "execution_count": 24,
   "id": "33b438b2",
   "metadata": {
    "execution": {
     "iopub.execute_input": "2024-03-03T17:55:29.613653Z",
     "iopub.status.busy": "2024-03-03T17:55:29.613372Z",
     "iopub.status.idle": "2024-03-03T17:55:29.619092Z",
     "shell.execute_reply": "2024-03-03T17:55:29.618254Z"
    },
    "papermill": {
     "duration": 0.026375,
     "end_time": "2024-03-03T17:55:29.621058",
     "exception": false,
     "start_time": "2024-03-03T17:55:29.594683",
     "status": "completed"
    },
    "tags": []
   },
   "outputs": [
    {
     "data": {
      "text/plain": [
       "Index(['RecipeCode', 'UserID', 'UserReputation', 'BestScore', 'Recipe_Review',\n",
       "       'ThumbsRatio'],\n",
       "      dtype='object')"
      ]
     },
     "execution_count": 24,
     "metadata": {},
     "output_type": "execute_result"
    }
   ],
   "source": [
    "X.columns"
   ]
  },
  {
   "cell_type": "code",
   "execution_count": 25,
   "id": "8c6e5369",
   "metadata": {
    "execution": {
     "iopub.execute_input": "2024-03-03T17:55:29.660329Z",
     "iopub.status.busy": "2024-03-03T17:55:29.660023Z",
     "iopub.status.idle": "2024-03-03T17:55:29.664177Z",
     "shell.execute_reply": "2024-03-03T17:55:29.663462Z"
    },
    "papermill": {
     "duration": 0.028112,
     "end_time": "2024-03-03T17:55:29.666590",
     "exception": false,
     "start_time": "2024-03-03T17:55:29.638478",
     "status": "completed"
    },
    "tags": []
   },
   "outputs": [],
   "source": [
    "text_column = 'Recipe_Review'"
   ]
  },
  {
   "cell_type": "code",
   "execution_count": 26,
   "id": "9edb85a5",
   "metadata": {
    "execution": {
     "iopub.execute_input": "2024-03-03T17:55:29.705287Z",
     "iopub.status.busy": "2024-03-03T17:55:29.704963Z",
     "iopub.status.idle": "2024-03-03T17:55:29.716095Z",
     "shell.execute_reply": "2024-03-03T17:55:29.715380Z"
    },
    "papermill": {
     "duration": 0.031705,
     "end_time": "2024-03-03T17:55:29.718101",
     "exception": false,
     "start_time": "2024-03-03T17:55:29.686396",
     "status": "completed"
    },
    "tags": []
   },
   "outputs": [],
   "source": [
    "X_train, X_test, y_train, y_test = train_test_split(X, y, test_size=0.2, random_state=42)\n",
    "\n",
    "cat_transformer = Pipeline(steps=[\n",
    "    ('onehot', OneHotEncoder(handle_unknown='ignore'))\n",
    "])\n",
    "\n",
    "text_transformer = Pipeline(steps=[\n",
    "    ('tfidf', TfidfVectorizer(stop_words='english'))\n",
    "])\n",
    "\n",
    "preprocessor = ColumnTransformer(\n",
    "    transformers=[\n",
    "        ('text', text_transformer, text_column),\n",
    "        ('cat', cat_transformer, ['RecipeCode', 'UserID'])\n",
    "    ])"
   ]
  },
  {
   "cell_type": "markdown",
   "id": "07fa2139",
   "metadata": {
    "papermill": {
     "duration": 0.016834,
     "end_time": "2024-03-03T17:55:29.752275",
     "exception": false,
     "start_time": "2024-03-03T17:55:29.735441",
     "status": "completed"
    },
    "tags": []
   },
   "source": [
    "# MODELS"
   ]
  },
  {
   "cell_type": "markdown",
   "id": "50448400",
   "metadata": {
    "papermill": {
     "duration": 0.016666,
     "end_time": "2024-03-03T17:55:29.786196",
     "exception": false,
     "start_time": "2024-03-03T17:55:29.769530",
     "status": "completed"
    },
    "tags": []
   },
   "source": [
    "## LogisticRegression"
   ]
  },
  {
   "cell_type": "code",
   "execution_count": 27,
   "id": "cf6b46b5",
   "metadata": {
    "execution": {
     "iopub.execute_input": "2024-03-03T17:55:29.821885Z",
     "iopub.status.busy": "2024-03-03T17:55:29.821240Z",
     "iopub.status.idle": "2024-03-03T17:55:34.704269Z",
     "shell.execute_reply": "2024-03-03T17:55:34.703346Z"
    },
    "papermill": {
     "duration": 4.903959,
     "end_time": "2024-03-03T17:55:34.707035",
     "exception": false,
     "start_time": "2024-03-03T17:55:29.803076",
     "status": "completed"
    },
    "tags": []
   },
   "outputs": [
    {
     "name": "stderr",
     "output_type": "stream",
     "text": [
      "/opt/conda/lib/python3.10/site-packages/sklearn/linear_model/_logistic.py:458: ConvergenceWarning: lbfgs failed to converge (status=1):\n",
      "STOP: TOTAL NO. of ITERATIONS REACHED LIMIT.\n",
      "\n",
      "Increase the number of iterations (max_iter) or scale the data as shown in:\n",
      "    https://scikit-learn.org/stable/modules/preprocessing.html\n",
      "Please also refer to the documentation for alternative solver options:\n",
      "    https://scikit-learn.org/stable/modules/linear_model.html#logistic-regression\n",
      "  n_iter_i = _check_optimize_result(\n"
     ]
    }
   ],
   "source": [
    "from sklearn.linear_model import LogisticRegression\n",
    "logistic_model = LogisticRegression()\n",
    "\n",
    "clf = Pipeline(steps=[('preprocessor', preprocessor),\n",
    "                      ('classifier', logistic_model)])\n",
    "\n",
    "clf.fit(X_train, y_train)\n",
    "\n",
    "y_pred = clf.predict(X_test)"
   ]
  },
  {
   "cell_type": "markdown",
   "id": "825d8ba5",
   "metadata": {
    "papermill": {
     "duration": 0.017521,
     "end_time": "2024-03-03T17:55:34.742397",
     "exception": false,
     "start_time": "2024-03-03T17:55:34.724876",
     "status": "completed"
    },
    "tags": []
   },
   "source": [
    "## CHECKING THE ACCURACY SCORE"
   ]
  },
  {
   "cell_type": "code",
   "execution_count": 28,
   "id": "f7a30d72",
   "metadata": {
    "execution": {
     "iopub.execute_input": "2024-03-03T17:55:34.778598Z",
     "iopub.status.busy": "2024-03-03T17:55:34.777936Z",
     "iopub.status.idle": "2024-03-03T17:55:34.794087Z",
     "shell.execute_reply": "2024-03-03T17:55:34.793119Z"
    },
    "papermill": {
     "duration": 0.036324,
     "end_time": "2024-03-03T17:55:34.796030",
     "exception": false,
     "start_time": "2024-03-03T17:55:34.759706",
     "status": "completed"
    },
    "tags": []
   },
   "outputs": [
    {
     "name": "stdout",
     "output_type": "stream",
     "text": [
      "Accuracy: 0.777044371103777\n"
     ]
    }
   ],
   "source": [
    "accuracy = accuracy_score(y_test, y_pred)\n",
    "classification_rep = classification_report(y_test, y_pred)\n",
    "\n",
    "print(f'Accuracy: {accuracy}')"
   ]
  },
  {
   "cell_type": "code",
   "execution_count": 29,
   "id": "8b004593",
   "metadata": {
    "execution": {
     "iopub.execute_input": "2024-03-03T17:55:34.833894Z",
     "iopub.status.busy": "2024-03-03T17:55:34.833579Z",
     "iopub.status.idle": "2024-03-03T17:55:35.036736Z",
     "shell.execute_reply": "2024-03-03T17:55:35.035658Z"
    },
    "papermill": {
     "duration": 0.223868,
     "end_time": "2024-03-03T17:55:35.038994",
     "exception": false,
     "start_time": "2024-03-03T17:55:34.815126",
     "status": "completed"
    },
    "tags": []
   },
   "outputs": [
    {
     "name": "stdout",
     "output_type": "stream",
     "text": [
      "   ID  Rating\n",
      "0   1       5\n",
      "1   2       5\n",
      "2   3       5\n",
      "3   4       5\n",
      "4   5       5\n"
     ]
    }
   ],
   "source": [
    "test_predictions = clf.predict(test_df)\n",
    "\n",
    "submission_df = pd.DataFrame({\n",
    "    'ID': range(1, len(test_predictions) + 1), \n",
    "    'Rating': test_predictions\n",
    "})\n",
    "\n",
    "submission_df.to_csv('submission.csv', index=False)\n",
    "\n",
    "print(submission_df.head())"
   ]
  },
  {
   "cell_type": "markdown",
   "id": "d59a7dbb",
   "metadata": {
    "papermill": {
     "duration": 0.017265,
     "end_time": "2024-03-03T17:55:35.075207",
     "exception": false,
     "start_time": "2024-03-03T17:55:35.057942",
     "status": "completed"
    },
    "tags": []
   },
   "source": [
    "## Cross validation on LogisticRegression Model"
   ]
  },
  {
   "cell_type": "code",
   "execution_count": 30,
   "id": "ff7fbbb7",
   "metadata": {
    "execution": {
     "iopub.execute_input": "2024-03-03T17:55:35.111775Z",
     "iopub.status.busy": "2024-03-03T17:55:35.110947Z",
     "iopub.status.idle": "2024-03-03T17:55:56.694071Z",
     "shell.execute_reply": "2024-03-03T17:55:56.692933Z"
    },
    "papermill": {
     "duration": 21.603561,
     "end_time": "2024-03-03T17:55:56.696253",
     "exception": false,
     "start_time": "2024-03-03T17:55:35.092692",
     "status": "completed"
    },
    "tags": []
   },
   "outputs": [
    {
     "name": "stdout",
     "output_type": "stream",
     "text": [
      "Cross-validation scores: [0.77406049 0.77222731 0.76707932 0.76891334 0.76983035]\n",
      "Mean cross-validation score: 0.7704221652627832\n"
     ]
    }
   ],
   "source": [
    "from sklearn.model_selection import cross_val_score\n",
    "from sklearn.pipeline import Pipeline\n",
    "from sklearn.linear_model import LogisticRegression\n",
    "\n",
    "logistic_model = LogisticRegression(max_iter=1000)\n",
    "\n",
    "clf = Pipeline(steps=[('preprocessor', preprocessor),\n",
    "                      ('classifier', logistic_model)])\n",
    "\n",
    "\n",
    "cv_scores = cross_val_score(clf, X_train, y_train, cv=5)  \n",
    "\n",
    "print(\"Cross-validation scores:\", cv_scores)\n",
    "\n",
    "print(\"Mean cross-validation score:\", cv_scores.mean())"
   ]
  },
  {
   "cell_type": "markdown",
   "id": "97c2abcc",
   "metadata": {
    "papermill": {
     "duration": 0.017433,
     "end_time": "2024-03-03T17:55:56.732905",
     "exception": false,
     "start_time": "2024-03-03T17:55:56.715472",
     "status": "completed"
    },
    "tags": []
   },
   "source": [
    "## RANDOM FOREST"
   ]
  },
  {
   "cell_type": "code",
   "execution_count": 31,
   "id": "bb2f387e",
   "metadata": {
    "execution": {
     "iopub.execute_input": "2024-03-03T17:55:56.768443Z",
     "iopub.status.busy": "2024-03-03T17:55:56.768135Z",
     "iopub.status.idle": "2024-03-03T17:56:11.394655Z",
     "shell.execute_reply": "2024-03-03T17:56:11.393717Z"
    },
    "papermill": {
     "duration": 14.646802,
     "end_time": "2024-03-03T17:56:11.396781",
     "exception": false,
     "start_time": "2024-03-03T17:55:56.749979",
     "status": "completed"
    },
    "tags": []
   },
   "outputs": [
    {
     "data": {
      "text/plain": [
       "0.7748441510817748"
      ]
     },
     "execution_count": 31,
     "metadata": {},
     "output_type": "execute_result"
    }
   ],
   "source": [
    "from sklearn.ensemble import RandomForestClassifier\n",
    "model = RandomForestClassifier()\n",
    "rfc = Pipeline(steps=[('preprocessor', preprocessor),\n",
    "                      ('classifier', model)])\n",
    "rfc.fit(X_train, y_train)\n",
    "y_pred = rfc.predict(X_test)\n",
    "accuracy = accuracy_score(y_test, y_pred)\n",
    "accuracy"
   ]
  },
  {
   "cell_type": "markdown",
   "id": "8ee41a55",
   "metadata": {
    "papermill": {
     "duration": 0.017098,
     "end_time": "2024-03-03T17:56:11.431654",
     "exception": false,
     "start_time": "2024-03-03T17:56:11.414556",
     "status": "completed"
    },
    "tags": []
   },
   "source": [
    "## Hyperparameters Tuning the Random Forest Model"
   ]
  },
  {
   "cell_type": "code",
   "execution_count": 32,
   "id": "636e490a",
   "metadata": {
    "execution": {
     "iopub.execute_input": "2024-03-03T17:56:11.467337Z",
     "iopub.status.busy": "2024-03-03T17:56:11.467024Z",
     "iopub.status.idle": "2024-03-03T18:03:41.187844Z",
     "shell.execute_reply": "2024-03-03T18:03:41.186738Z"
    },
    "papermill": {
     "duration": 449.758088,
     "end_time": "2024-03-03T18:03:41.206860",
     "exception": false,
     "start_time": "2024-03-03T17:56:11.448772",
     "status": "completed"
    },
    "tags": []
   },
   "outputs": [
    {
     "name": "stderr",
     "output_type": "stream",
     "text": [
      "/opt/conda/lib/python3.10/site-packages/scipy/__init__.py:146: UserWarning: A NumPy version >=1.16.5 and <1.23.0 is required for this version of SciPy (detected version 1.24.3\n",
      "  warnings.warn(f\"A NumPy version >={np_minversion} and <{np_maxversion}\"\n",
      "/opt/conda/lib/python3.10/site-packages/scipy/__init__.py:146: UserWarning: A NumPy version >=1.16.5 and <1.23.0 is required for this version of SciPy (detected version 1.24.3\n",
      "  warnings.warn(f\"A NumPy version >={np_minversion} and <{np_maxversion}\"\n",
      "/opt/conda/lib/python3.10/site-packages/scipy/__init__.py:146: UserWarning: A NumPy version >=1.16.5 and <1.23.0 is required for this version of SciPy (detected version 1.24.3\n",
      "  warnings.warn(f\"A NumPy version >={np_minversion} and <{np_maxversion}\"\n",
      "/opt/conda/lib/python3.10/site-packages/scipy/__init__.py:146: UserWarning: A NumPy version >=1.16.5 and <1.23.0 is required for this version of SciPy (detected version 1.24.3\n",
      "  warnings.warn(f\"A NumPy version >={np_minversion} and <{np_maxversion}\"\n"
     ]
    },
    {
     "name": "stdout",
     "output_type": "stream",
     "text": [
      "Best Parameters: {'classifier__max_depth': None, 'classifier__min_samples_leaf': 1, 'classifier__min_samples_split': 2, 'classifier__n_estimators': 50}\n",
      "Best Score: 0.771431044967558\n"
     ]
    }
   ],
   "source": [
    "from sklearn.model_selection import GridSearchCV\n",
    "\n",
    "param_grid = {\n",
    "    'classifier__n_estimators': [50, 100, 150],\n",
    "    'classifier__max_depth': [None, 10, 20, 30],\n",
    "    'classifier__min_samples_split': [2, 5, 10],\n",
    "    'classifier__min_samples_leaf': [1, 2, 4]\n",
    "}\n",
    "\n",
    "\n",
    "grid_search = GridSearchCV(estimator=rfc, param_grid=param_grid, cv=5, scoring='accuracy', n_jobs=-1)\n",
    "grid_search.fit(X_train, y_train)\n",
    "\n",
    "best_params = grid_search.best_params_\n",
    "best_score = grid_search.best_score_\n",
    "\n",
    "print(\"Best Parameters:\", best_params)\n",
    "print(\"Best Score:\", best_score)"
   ]
  },
  {
   "cell_type": "markdown",
   "id": "6b05bd1d",
   "metadata": {
    "papermill": {
     "duration": 0.017516,
     "end_time": "2024-03-03T18:03:41.241930",
     "exception": false,
     "start_time": "2024-03-03T18:03:41.224414",
     "status": "completed"
    },
    "tags": []
   },
   "source": [
    "## KNN Model"
   ]
  },
  {
   "cell_type": "code",
   "execution_count": 33,
   "id": "4f4283fe",
   "metadata": {
    "execution": {
     "iopub.execute_input": "2024-03-03T18:03:41.278852Z",
     "iopub.status.busy": "2024-03-03T18:03:41.278491Z",
     "iopub.status.idle": "2024-03-03T18:03:46.944348Z",
     "shell.execute_reply": "2024-03-03T18:03:46.943495Z"
    },
    "papermill": {
     "duration": 5.686859,
     "end_time": "2024-03-03T18:03:46.946593",
     "exception": false,
     "start_time": "2024-03-03T18:03:41.259734",
     "status": "completed"
    },
    "tags": []
   },
   "outputs": [],
   "source": [
    "from sklearn.neighbors import KNeighborsClassifier\n",
    "knn_model = KNeighborsClassifier(n_neighbors=5)\n",
    "\n",
    "clf = Pipeline(steps=[('preprocessor', preprocessor),\n",
    "                      ('classifier', knn_model)])\n",
    "\n",
    "clf.fit(X_train, y_train)\n",
    "\n",
    "y_pred = clf.predict(X_test)"
   ]
  },
  {
   "cell_type": "code",
   "execution_count": 34,
   "id": "67771d72",
   "metadata": {
    "execution": {
     "iopub.execute_input": "2024-03-03T18:03:46.984660Z",
     "iopub.status.busy": "2024-03-03T18:03:46.984353Z",
     "iopub.status.idle": "2024-03-03T18:03:47.000587Z",
     "shell.execute_reply": "2024-03-03T18:03:46.999678Z"
    },
    "papermill": {
     "duration": 0.037788,
     "end_time": "2024-03-03T18:03:47.002508",
     "exception": false,
     "start_time": "2024-03-03T18:03:46.964720",
     "status": "completed"
    },
    "tags": []
   },
   "outputs": [
    {
     "name": "stdout",
     "output_type": "stream",
     "text": [
      "Accuracy: 0.7345067840117345\n"
     ]
    }
   ],
   "source": [
    "accuracy = accuracy_score(y_test, y_pred)\n",
    "classification_rep = classification_report(y_test, y_pred)\n",
    "\n",
    "print(f'Accuracy: {accuracy}')"
   ]
  },
  {
   "cell_type": "markdown",
   "id": "e4034a5c",
   "metadata": {
    "papermill": {
     "duration": 0.017301,
     "end_time": "2024-03-03T18:03:47.037551",
     "exception": false,
     "start_time": "2024-03-03T18:03:47.020250",
     "status": "completed"
    },
    "tags": []
   },
   "source": [
    "## Navie Bayes Model"
   ]
  },
  {
   "cell_type": "code",
   "execution_count": 35,
   "id": "34809782",
   "metadata": {
    "execution": {
     "iopub.execute_input": "2024-03-03T18:03:47.074572Z",
     "iopub.status.busy": "2024-03-03T18:03:47.073972Z",
     "iopub.status.idle": "2024-03-03T18:03:47.688869Z",
     "shell.execute_reply": "2024-03-03T18:03:47.687886Z"
    },
    "papermill": {
     "duration": 0.636133,
     "end_time": "2024-03-03T18:03:47.691328",
     "exception": false,
     "start_time": "2024-03-03T18:03:47.055195",
     "status": "completed"
    },
    "tags": []
   },
   "outputs": [
    {
     "name": "stdout",
     "output_type": "stream",
     "text": [
      "Accuracy: 0.7638430509717639\n",
      "Classification Report:\n",
      "              precision    recall  f1-score   support\n",
      "\n",
      "           0       1.00      0.00      0.01       238\n",
      "           1       0.00      0.00      0.00        41\n",
      "           2       0.00      0.00      0.00        40\n",
      "           3       0.00      0.00      0.00        78\n",
      "           4       0.00      0.00      0.00       248\n",
      "           5       0.76      1.00      0.87      2082\n",
      "\n",
      "    accuracy                           0.76      2727\n",
      "   macro avg       0.29      0.17      0.15      2727\n",
      "weighted avg       0.67      0.76      0.66      2727\n",
      "\n"
     ]
    },
    {
     "name": "stderr",
     "output_type": "stream",
     "text": [
      "/opt/conda/lib/python3.10/site-packages/sklearn/metrics/_classification.py:1344: UndefinedMetricWarning: Precision and F-score are ill-defined and being set to 0.0 in labels with no predicted samples. Use `zero_division` parameter to control this behavior.\n",
      "  _warn_prf(average, modifier, msg_start, len(result))\n",
      "/opt/conda/lib/python3.10/site-packages/sklearn/metrics/_classification.py:1344: UndefinedMetricWarning: Precision and F-score are ill-defined and being set to 0.0 in labels with no predicted samples. Use `zero_division` parameter to control this behavior.\n",
      "  _warn_prf(average, modifier, msg_start, len(result))\n",
      "/opt/conda/lib/python3.10/site-packages/sklearn/metrics/_classification.py:1344: UndefinedMetricWarning: Precision and F-score are ill-defined and being set to 0.0 in labels with no predicted samples. Use `zero_division` parameter to control this behavior.\n",
      "  _warn_prf(average, modifier, msg_start, len(result))\n"
     ]
    }
   ],
   "source": [
    "from sklearn.model_selection import train_test_split\n",
    "from sklearn.naive_bayes import MultinomialNB\n",
    "from sklearn.metrics import accuracy_score, classification_report\n",
    "from sklearn.feature_extraction.text import TfidfVectorizer\n",
    "from sklearn.preprocessing import OneHotEncoder\n",
    "from scipy.sparse import hstack\n",
    "\n",
    "cat_columns = ['RecipeCode', 'UserID']\n",
    "\n",
    "tfidf_vectorizer = TfidfVectorizer(stop_words='english')\n",
    "X_train_text = tfidf_vectorizer.fit_transform(X_train['Recipe_Review'])\n",
    "X_test_text = tfidf_vectorizer.transform(X_test['Recipe_Review'])\n",
    "\n",
    "encoder = OneHotEncoder(handle_unknown='ignore')\n",
    "X_train_cat = encoder.fit_transform(X_train[cat_columns])\n",
    "X_test_cat = encoder.transform(X_test[cat_columns])\n",
    "\n",
    "X_train_processed = hstack((X_train_text, X_train_cat))\n",
    "X_test_processed = hstack((X_test_text, X_test_cat))\n",
    "\n",
    "naive_bayes_model = MultinomialNB()\n",
    "\n",
    "naive_bayes_model.fit(X_train_processed, y_train)\n",
    "\n",
    "y_pred = naive_bayes_model.predict(X_test_processed)\n",
    "\n",
    "accuracy = accuracy_score(y_test, y_pred)\n",
    "print(\"Accuracy:\", accuracy)\n",
    "\n",
    "classification_rep = classification_report(y_test, y_pred)\n",
    "print(\"Classification Report:\")\n",
    "print(classification_rep)"
   ]
  },
  {
   "cell_type": "markdown",
   "id": "99be2525",
   "metadata": {
    "papermill": {
     "duration": 0.018084,
     "end_time": "2024-03-03T18:03:47.727648",
     "exception": false,
     "start_time": "2024-03-03T18:03:47.709564",
     "status": "completed"
    },
    "tags": []
   },
   "source": [
    "## SVC MODEL"
   ]
  },
  {
   "cell_type": "code",
   "execution_count": 36,
   "id": "dd1f84c1",
   "metadata": {
    "execution": {
     "iopub.execute_input": "2024-03-03T18:03:47.765111Z",
     "iopub.status.busy": "2024-03-03T18:03:47.764505Z",
     "iopub.status.idle": "2024-03-03T18:04:44.838768Z",
     "shell.execute_reply": "2024-03-03T18:04:44.837800Z"
    },
    "papermill": {
     "duration": 57.113884,
     "end_time": "2024-03-03T18:04:44.859488",
     "exception": false,
     "start_time": "2024-03-03T18:03:47.745604",
     "status": "completed"
    },
    "tags": []
   },
   "outputs": [
    {
     "name": "stdout",
     "output_type": "stream",
     "text": [
      "Accuracy: 0.7667766776677668\n",
      "Classification Report:\n",
      "              precision    recall  f1-score   support\n",
      "\n",
      "           0       0.89      0.03      0.06       238\n",
      "           1       0.00      0.00      0.00        41\n",
      "           2       0.00      0.00      0.00        40\n",
      "           3       1.00      0.03      0.05        78\n",
      "           4       0.00      0.00      0.00       248\n",
      "           5       0.77      1.00      0.87      2082\n",
      "\n",
      "    accuracy                           0.77      2727\n",
      "   macro avg       0.44      0.18      0.16      2727\n",
      "weighted avg       0.69      0.77      0.67      2727\n",
      "\n"
     ]
    },
    {
     "name": "stderr",
     "output_type": "stream",
     "text": [
      "/opt/conda/lib/python3.10/site-packages/sklearn/metrics/_classification.py:1344: UndefinedMetricWarning: Precision and F-score are ill-defined and being set to 0.0 in labels with no predicted samples. Use `zero_division` parameter to control this behavior.\n",
      "  _warn_prf(average, modifier, msg_start, len(result))\n",
      "/opt/conda/lib/python3.10/site-packages/sklearn/metrics/_classification.py:1344: UndefinedMetricWarning: Precision and F-score are ill-defined and being set to 0.0 in labels with no predicted samples. Use `zero_division` parameter to control this behavior.\n",
      "  _warn_prf(average, modifier, msg_start, len(result))\n",
      "/opt/conda/lib/python3.10/site-packages/sklearn/metrics/_classification.py:1344: UndefinedMetricWarning: Precision and F-score are ill-defined and being set to 0.0 in labels with no predicted samples. Use `zero_division` parameter to control this behavior.\n",
      "  _warn_prf(average, modifier, msg_start, len(result))\n"
     ]
    }
   ],
   "source": [
    "from sklearn.model_selection import train_test_split\n",
    "from sklearn.svm import SVC\n",
    "from sklearn.metrics import accuracy_score, classification_report\n",
    "from sklearn.feature_extraction.text import TfidfVectorizer\n",
    "from sklearn.preprocessing import OneHotEncoder\n",
    "from scipy.sparse import hstack\n",
    "\n",
    "cat_columns = ['RecipeCode', 'UserID']\n",
    "\n",
    "tfidf_vectorizer = TfidfVectorizer(stop_words='english')\n",
    "X_train_text = tfidf_vectorizer.fit_transform(X_train['Recipe_Review'])\n",
    "X_test_text = tfidf_vectorizer.transform(X_test['Recipe_Review'])\n",
    "\n",
    "encoder = OneHotEncoder(handle_unknown='ignore')\n",
    "X_train_cat = encoder.fit_transform(X_train[cat_columns])\n",
    "X_test_cat = encoder.transform(X_test[cat_columns])\n",
    "\n",
    "\n",
    "X_train_processed = hstack((X_train_text, X_train_cat))\n",
    "X_test_processed = hstack((X_test_text, X_test_cat))\n",
    "\n",
    "svm_model = SVC()\n",
    "\n",
    "\n",
    "svm_model.fit(X_train_processed, y_train)\n",
    "\n",
    "y_pred = svm_model.predict(X_test_processed)\n",
    "\n",
    "accuracy = accuracy_score(y_test, y_pred)\n",
    "print(\"Accuracy:\", accuracy)\n",
    "\n",
    "classification_rep = classification_report(y_test, y_pred)\n",
    "print(\"Classification Report:\")\n",
    "print(classification_rep)"
   ]
  },
  {
   "cell_type": "markdown",
   "id": "471389b2",
   "metadata": {
    "papermill": {
     "duration": 0.018967,
     "end_time": "2024-03-03T18:04:44.896457",
     "exception": false,
     "start_time": "2024-03-03T18:04:44.877490",
     "status": "completed"
    },
    "tags": []
   },
   "source": [
    "# Comparing Accuracy Score across models"
   ]
  },
  {
   "cell_type": "code",
   "execution_count": 37,
   "id": "47da4148",
   "metadata": {
    "execution": {
     "iopub.execute_input": "2024-03-03T18:04:44.934615Z",
     "iopub.status.busy": "2024-03-03T18:04:44.934269Z",
     "iopub.status.idle": "2024-03-03T18:04:44.938769Z",
     "shell.execute_reply": "2024-03-03T18:04:44.937890Z"
    },
    "papermill": {
     "duration": 0.026007,
     "end_time": "2024-03-03T18:04:44.940619",
     "exception": false,
     "start_time": "2024-03-03T18:04:44.914612",
     "status": "completed"
    },
    "tags": []
   },
   "outputs": [],
   "source": [
    "logistic= 0.776677\n",
    "randomforest = 0.775577\n",
    "knn= 0.733039\n",
    "naive_bayes = 0.763843\n",
    "svc = 0.766776"
   ]
  },
  {
   "cell_type": "code",
   "execution_count": 38,
   "id": "a5413638",
   "metadata": {
    "execution": {
     "iopub.execute_input": "2024-03-03T18:04:44.978235Z",
     "iopub.status.busy": "2024-03-03T18:04:44.977980Z",
     "iopub.status.idle": "2024-03-03T18:04:45.509571Z",
     "shell.execute_reply": "2024-03-03T18:04:45.508649Z"
    },
    "papermill": {
     "duration": 0.55255,
     "end_time": "2024-03-03T18:04:45.511605",
     "exception": false,
     "start_time": "2024-03-03T18:04:44.959055",
     "status": "completed"
    },
    "tags": []
   },
   "outputs": [
    {
     "data": {
      "image/png": "[encoded data removed]",
      "text/plain": [
       "<Figure size 1000x600 with 1 Axes>"
      ]
     },
     "metadata": {},
     "output_type": "display_data"
    }
   ],
   "source": [
    "import seaborn as sns\n",
    "import matplotlib.pyplot as plt\n",
    "\n",
    "models = ['Logistic Regression', 'Random Forest', 'KNN', 'Naive Bayes', 'SVC']\n",
    "accuracies = [0.776677, 0.775577, 0.733039, 0.763843, 0.766776]\n",
    "\n",
    "data = {'Model': models, 'Accuracy': accuracies}\n",
    "df = pd.DataFrame(data)\n",
    "\n",
    "plt.figure(figsize=(10, 6))\n",
    "sns.barplot(x='Model', y='Accuracy', data=df, palette='viridis')\n",
    "plt.title('Model Comparison')\n",
    "plt.xlabel('Model')\n",
    "plt.ylabel('Accuracy')\n",
    "plt.ylim(0.7, 0.8)  \n",
    "plt.xticks(rotation=45)  \n",
    "plt.show()"
   ]
  },
  {
   "cell_type": "markdown",
   "id": "d284abe9",
   "metadata": {
    "papermill": {
     "duration": 0.018141,
     "end_time": "2024-03-03T18:04:45.548548",
     "exception": false,
     "start_time": "2024-03-03T18:04:45.530407",
     "status": "completed"
    },
    "tags": []
   },
   "source": [
    "## Based on the graph, it's evident that Logistic Regression has the highest accuracy score, making it the preferred model for making predictions."
   ]
  }
 ],
 "metadata": {
  "kaggle": {
   "accelerator": "gpu",
   "dataSources": [
    {
     "databundleVersionId": 7452256,
     "sourceId": 67079,
     "sourceType": "competition"
    }
   ],
   "dockerImageVersionId": 30635,
   "isGpuEnabled": true,
   "isInternetEnabled": false,
   "language": "python",
   "sourceType": "notebook"
  },
  "kernelspec": {
   "display_name": "Python 3",
   "language": "python",
   "name": "python3"
  },
  "language_info": {
   "codemirror_mode": {
    "name": "ipython",
    "version": 3
   },
   "file_extension": ".py",
   "mimetype": "text/x-python",
   "name": "python",
   "nbconvert_exporter": "python",
   "pygments_lexer": "ipython3",
   "version": "3.10.12"
  },
  "papermill": {
   "default_parameters": {},
   "duration": 567.049634,
   "end_time": "2024-03-03T18:04:48.186113",
   "environment_variables": {},
   "exception": null,
   "input_path": "__notebook__.ipynb",
   "output_path": "__notebook__.ipynb",
   "parameters": {},
   "start_time": "2024-03-03T17:55:21.136479",
   "version": "2.4.0"
  }
 },
 "nbformat": 4,
 "nbformat_minor": 5
}
